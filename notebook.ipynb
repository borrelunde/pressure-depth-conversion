{
 "cells": [
  {
   "attachments": {},
   "cell_type": "markdown",
   "metadata": {},
   "source": [
    "# Hydrostatic Water Pressure Formula\n",
    "\n",
    "Simple hydrostatic pressure equation.\n",
    "\n",
    "$P$ pressure [$Pa$]  \n",
    "$\\rho$ density [$kg/m^3$].  \n",
    "$g$ gravitational acceleration constant [$m/s^2$]  \n",
    "$h$ depth [$m$]\n",
    "\n",
    "$P = \\rho g h$"
   ]
  },
  {
   "cell_type": "code",
   "execution_count": 57,
   "metadata": {},
   "outputs": [
    {
     "name": "stdout",
     "output_type": "stream",
     "text": [
      "5019043.47 Pa\n",
      "5019.04347 kPa\n"
     ]
    }
   ],
   "source": [
    "density_freshwater = 997.0474  # Density rho [kg/m^3]\n",
    "density_saltwater = 1023.6  # Density rho [kg/m^3]\n",
    "g = 9.80665  # Gravitational acceleration constant g [m/s^2]\n",
    "\n",
    "def calc_pressure_pa(rho: float, g: float, h: float):\n",
    "    return (rho * g * h)\n",
    "\n",
    "pressure_pa = calc_pressure_pa(rho=density_saltwater, g=g, h=500)\n",
    "\n",
    "def convert_pa_to_kpa(pa: float):\n",
    "    return pa / 1000\n",
    "\n",
    "pressure_kpa = convert_pa_to_kpa(pa=pressure_pa)\n",
    "\n",
    "print(f'{pressure_pa} Pa')\n",
    "print(f'{pressure_kpa} kPa')"
   ]
  },
  {
   "cell_type": "code",
   "execution_count": 58,
   "metadata": {},
   "outputs": [
    {
     "name": "stdout",
     "output_type": "stream",
     "text": [
      "500.0 m\n"
     ]
    }
   ],
   "source": [
    "def calc_depth_m(rho: float, g: float, P: float):\n",
    "        return P / (rho * g)\n",
    "\n",
    "h = calc_depth_m(rho=density_saltwater, g=g, P=pressure_pa)\n",
    "\n",
    "print(f'{h} m')"
   ]
  },
  {
   "cell_type": "code",
   "execution_count": 19,
   "metadata": {},
   "outputs": [
    {
     "name": "stdout",
     "output_type": "stream",
     "text": [
      "50.1904347 bar\n"
     ]
    }
   ],
   "source": [
    "def convert_kpa_to_bar(kilopascal):\n",
    "    return kilopascal * 0.01\n",
    "\n",
    "bar = convert_kpa_to_bar(pressure_kpa)\n",
    "\n",
    "print(f'{bar} bar')"
   ]
  },
  {
   "attachments": {},
   "cell_type": "markdown",
   "metadata": {},
   "source": [
    "# Practical Conversion of Pressure to Depth\n",
    "\n",
    "[AMS Journals | Practical conversion of pressure to depth](https://journals.ametsoc.org/view/journals/phoc/11/4/1520-0485_1981_011_0573_pcoptd_2_0_co_2.xml)\n",
    "\n",
    "A conversion formula between pressure and depth is obtained employing the recently adopted equation of state for seawater (Millero et al., 1980). Assuming the ocean of uniform salinity 35 NSU and temperature 0°C the following equation is proposed, namely, $z = (1-c_1)p − c_2p^2$. If p is in decibars and z in meters $c1 = (5.92 + 5.25 sin^2\\phi) × 10^{−3}$, where $\\phi$ is latitude and $c2 = 2.21 × 10^{−6}$. To take account of the physical conditions in the water column a dynamic height correction is to be added but for many purposes this may be ignored."
   ]
  },
  {
   "cell_type": "code",
   "execution_count": 59,
   "metadata": {},
   "outputs": [
    {
     "name": "stdout",
     "output_type": "stream",
     "text": [
      "496.0208892684172 m\n"
     ]
    }
   ],
   "source": [
    "import math\n",
    "\n",
    "# latitude and longitude from https://latitudelongitude.org/no/bergen/\n",
    "# Bergen, Norway:\n",
    "# - latitude:  60.39299\n",
    "# - longitude: 5.32415\n",
    "#\n",
    "# Table 1. Variation of c1 with latitude.\n",
    "# for latitude (deg) 60: c1 = 9.86\n",
    "latitude = 9.86\n",
    "\n",
    "c1 = (5.92 + 5.25 * math.sin(latitude) ** 2) * 10 ** -3\n",
    "c2 = 2.21 * 10 ** -6\n",
    "\n",
    "def calc_depth(c1, c2, p):\n",
    "    return (1 - c1) * p - c2 * p ** 2\n",
    "\n",
    "pressure_dbar = 500  # pressure [decibars]\n",
    "\n",
    "# depth z [m]\n",
    "z = calc_depth(c1=c1, c2=c2, p=pressure_dbar)\n",
    "\n",
    "print(f'{z} m')"
   ]
  }
 ],
 "metadata": {
  "kernelspec": {
   "display_name": "Python 3",
   "language": "python",
   "name": "python3"
  },
  "language_info": {
   "codemirror_mode": {
    "name": "ipython",
    "version": 3
   },
   "file_extension": ".py",
   "mimetype": "text/x-python",
   "name": "python",
   "nbconvert_exporter": "python",
   "pygments_lexer": "ipython3",
   "version": "3.11.3"
  },
  "orig_nbformat": 4
 },
 "nbformat": 4,
 "nbformat_minor": 2
}
